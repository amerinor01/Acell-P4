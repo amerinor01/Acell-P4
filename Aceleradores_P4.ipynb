{
  "nbformat": 4,
  "nbformat_minor": 0,
  "metadata": {
    "colab": {
      "name": "Aceleradores P4.ipynb",
      "provenance": [],
      "collapsed_sections": [],
      "toc_visible": true,
      "authorship_tag": "ABX9TyObCNAychOO0B9mONLF0kRv",
      "include_colab_link": true
    },
    "kernelspec": {
      "name": "python3",
      "display_name": "Python 3"
    },
    "language_info": {
      "name": "python"
    }
  },
  "cells": [
    {
      "cell_type": "markdown",
      "metadata": {
        "id": "view-in-github",
        "colab_type": "text"
      },
      "source": [
        "<a href=\"https://colab.research.google.com/github/amerinor01/Acell-P4/blob/main/Aceleradores_P4.ipynb\" target=\"_parent\"><img src=\"https://colab.research.google.com/assets/colab-badge.svg\" alt=\"Open In Colab\"/></a>"
      ]
    },
    {
      "cell_type": "markdown",
      "metadata": {
        "id": "qgicOFxV3jic"
      },
      "source": [
        "# Vars"
      ]
    },
    {
      "cell_type": "code",
      "metadata": {
        "id": "KecIPJFV3QUK"
      },
      "source": [
        "import matplotlib.pyplot as plt\n",
        "import numpy as np\n",
        "import pandas as pd\n"
      ],
      "execution_count": 1,
      "outputs": []
    },
    {
      "cell_type": "code",
      "metadata": {
        "id": "-K4VQz2V3tjF"
      },
      "source": [
        "ITER = 10\n",
        "programs = ('paralelo1.txt','paralelo2.txt', 'paralelo3.txt')\n",
        "seq_programs = {'secuencial.txt'}\n",
        "data = []\n"
      ],
      "execution_count": 8,
      "outputs": []
    },
    {
      "cell_type": "code",
      "metadata": {
        "id": "OFtbGWzB38Hi"
      },
      "source": [
        "x = 0\n",
        "def parserToJson(data):\n",
        "  result = {\n",
        "      'Iteration': int(data[0].split(' ')[1]),\n",
        "      'BlockSize': int(data[0].split(' ')[3]),\n",
        "      'ArraySize': int(data[0].split(' ')[5]),\n",
        "      'Stream'   : int(data[0].split(' ')[7]),\n",
        "      'Kernel Time': float(data[1].split(' ')[2]),\n",
        "      'Total Time': float(data[2].split(' ')[2]),\n",
        "      'GFLOPs Time': float(data[3].split(' ')[1]),\n",
        "  }\n",
        "  return result\n",
        "\n",
        "def parserSeqToJson(data):\n",
        "  result = {\n",
        "      'Iteration': int(data[0].split(' ')[1]),\n",
        "      'ArraySize': int(data[0].split(' ')[3]),\n",
        "      'Time': float(data[1].split(' ')[2]),\n",
        "  }\n",
        "  return result;\n",
        "\n",
        "def getData(filename):\n",
        "  data = []\n",
        "  lista = []\n",
        "  with open(filename) as f:\n",
        "    content = f.read().splitlines()\n",
        "\n",
        "  for s in content:\n",
        "    if s is not '':\n",
        "      lista.append(s)\n",
        "    else:\n",
        "      data.append(parserToJson(lista))\n",
        "      lista.clear()\n",
        "  \n",
        "  return data\n",
        "\n",
        "\n",
        "def getSeqData(filename):\n",
        "  data = []\n",
        "  lista = []\n",
        "  with open(filename) as f:\n",
        "    content = f.read().splitlines()\n",
        "  \n",
        "  for s in content:\n",
        "    if s is not '':\n",
        "      lista.append(s)\n",
        "    else:\n",
        "      data.append(parserSeqToJson(lista))\n",
        "      lista.clear()\n",
        "  \n",
        "  return data\n",
        "\n",
        "def getDataframe(programa):\n",
        "  x = getData(programa)\n",
        "  x[0]\n",
        "  df = pd.DataFrame(x[0],[0])\n",
        "\n",
        "  for i in range(1,len(x)):\n",
        "    df = df.append(x[i], ignore_index=True)\n",
        "    \n",
        "  #print(x)\n",
        "  df\n",
        "  t = df.get(['BlockSize', 'ArraySize','Stream','Kernel Time', 'Total Time', 'GFLOPs Time'])\n",
        "  p = t.groupby(by=['ArraySize','BlockSize','Stream']).mean()\n",
        "  return p\n",
        "\n",
        "def getSeqDataFrame(programa):\n",
        "  x = getSeqData(programa)\n",
        "  x[0]\n",
        "  df = pd.DataFrame(x[0],[0])\n",
        "\n",
        "  for i in range(1,len(x)):\n",
        "    df = df.append(x[i], ignore_index=True)\n",
        "    \n",
        "  t = df.get(['ArraySize', 'Time'])\n",
        "  p = t.groupby(by=['ArraySize']).mean()\n",
        "  \n",
        "\n",
        "  return p\n",
        "\n",
        "dfs = []\n",
        "dfs_seq = []\n",
        "\n",
        "for x in programs:\n",
        "  dfs.append(getDataframe(x))\n",
        "\n",
        "for x in seq_programs:\n",
        "  dfs_seq.append(getSeqDataFrame(x))\n",
        "\n",
        "\n",
        "v = 0\n",
        "with pd.ExcelWriter('output.xlsx') as writer:  \n",
        "    for df in dfs:\n",
        "      df.to_excel(writer, sheet_name='Program' + str(v))\n",
        "      v = v + 1\n",
        "    for df in dfs_seq:\n",
        "      df.to_excel(writer, sheet_name='Program' + str(v))\n",
        "      v = v + 1\n",
        "\n"
      ],
      "execution_count": 11,
      "outputs": []
    },
    {
      "cell_type": "markdown",
      "metadata": {
        "id": "G0fHJYXl81mC"
      },
      "source": [
        ""
      ]
    }
  ]
}